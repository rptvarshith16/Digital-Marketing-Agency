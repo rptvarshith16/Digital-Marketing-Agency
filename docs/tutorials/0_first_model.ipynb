{
  "cells": [
    {
      "cell_type": "markdown",
      "metadata": {
        "id": "view-in-github",
        "colab_type": "text"
      },
      "source": [
        "<a href=\"https://colab.research.google.com/github/rptvarshith16/Digital-Marketing-Agency/blob/main/docs/tutorials/0_first_model.ipynb\" target=\"_parent\"><img src=\"https://colab.research.google.com/assets/colab-badge.svg\" alt=\"Open In Colab\"/></a>"
      ]
    },
    {
      "cell_type": "markdown",
      "metadata": {
        "id": "ktrA-k82i-T6"
      },
      "source": [
        "# Creating Your First Model\n",
        "\n",
        "### The Boltzmann Wealth Model"
      ]
    },
    {
      "cell_type": "markdown",
      "metadata": {
        "id": "GXyyjXp4i-T7"
      },
      "source": [
        "**Important:**\n",
        "- If you are just exploring Mesa and want the fastest way to execute the code we recommend executing this tutorial online in a Colab notebook. [![Colab](https://colab.research.google.com/assets/colab-badge.svg)](https://colab.research.google.com/github/projectmesa/mesa/blob/main/docs/tutorials/0_first_model.ipynb) or if you do not have a Google account you can use [![Binder](https://mybinder.org/badge_logo.svg)](https://mybinder.org/v2/gh/projectmesa/mesa/main?labpath=docs%2Ftutorials%2F0_first_model.ipynb) (This can take 30 seconds to 5 minutes to load)\n",
        "- If you are running locally, please ensure you have the latest Mesa version installed.\n",
        "\n",
        "## Tutorial Description\n",
        "\n",
        "[Mesa](https://github.com/projectmesa/mesa) is a Python framework for [agent-based modeling](https://en.wikipedia.org/wiki/Agent-based_model). This tutorial is the first in a series of introductory tutorials that will assist you in getting started and discover some of the core features of Mesa.  The tutorial starts with the key pieces of a model and then progressively adds functionality.\n",
        "\n",
        "Should anyone find any errors, bugs, have a suggestion, or just are looking for clarification, let us know in our [chat](https://matrix.to/#/#project-mesa:matrix.org)!\n",
        "\n",
        "The premise of this tutorial is to create a starter-level model representing agents exchanging money."
      ]
    },
    {
      "cell_type": "markdown",
      "metadata": {
        "id": "xTmYo7rhi-T8"
      },
      "source": [
        "## Model Description\n",
        "\n",
        "This is a simulated agent-based economy. In an agent-based economy, the behavior of an individual economic agent, such as a consumer or producer, is studied in a market environment.\n",
        "This model is drawn from the field econophysics, specifically a paper prepared by Drăgulescu et al. for additional information on the modeling assumptions used in this model. [Drăgulescu, 2002].\n",
        "\n",
        "The assumption that govern this model are:\n",
        "\n",
        "1. There are some number of agents.\n",
        "2. All agents begin with 1 unit of money.\n",
        "3. At every step of the model, an agent gives 1 unit of money (if they\n",
        "   have it) to some other agent.\n",
        "\n",
        "Even as a starter-level model it yields results that are both interesting and unexpected.\n",
        "\n",
        "Due to its simplicity and intriguing results, we found it to be a good starter model."
      ]
    },
    {
      "cell_type": "markdown",
      "metadata": {
        "id": "YVwSXJJ6i-T9"
      },
      "source": [
        "### Tutorial Setup\n",
        "\n",
        "Create and activate a [virtual environment](http://docs.python-guide.org/en/latest/dev/virtualenvs/). *Python version 3.11 or higher is required*.\n",
        "\n",
        "Install Mesa:\n",
        "\n",
        "```bash\n",
        "pip install mesa[rec]\n",
        "```\n",
        "\n",
        "Install Jupyter notebook (optional):\n",
        "\n",
        "```bash\n",
        "pip install jupyter\n",
        "```\n",
        "\n",
        "Install [Seaborn](https://seaborn.pydata.org/) (which is used for data visualization):\n",
        "\n",
        "```bash\n",
        "pip install seaborn\n",
        "```"
      ]
    },
    {
      "cell_type": "markdown",
      "metadata": {
        "id": "JpOTPkBqi-T9"
      },
      "source": [
        "### IN COLAB? - Run the next cell"
      ]
    },
    {
      "cell_type": "raw",
      "metadata": {
        "vscode": {
          "languageId": "raw"
        },
        "id": "sd1IN2Lii-T-"
      },
      "source": [
        "%pip install --quiet mesa[rec]"
      ]
    },
    {
      "cell_type": "markdown",
      "metadata": {
        "id": "gZDcM2Aui-T-"
      },
      "source": [
        "## Building the Sample Model\n",
        "\n",
        "After Mesa is installed a model can be built.\n",
        "\n",
        " This tutorial is written in [Jupyter](http://jupyter.org) to facilitate the explanation portions.\n",
        "\n",
        "Start Jupyter form the command line:\n",
        "\n",
        "```bash\n",
        "jupyter lab\n",
        "```\n",
        "\n",
        "Create a new notebook named `money_model.ipynb` (or whatever you want to call it)."
      ]
    },
    {
      "cell_type": "markdown",
      "metadata": {
        "id": "R8k4s5fzi-T-"
      },
      "source": [
        "### Import Dependencies\n",
        "This includes importing of dependencies needed for the tutorial."
      ]
    },
    {
      "cell_type": "code",
      "source": [
        "pip install mesa[rec]\n"
      ],
      "metadata": {
        "colab": {
          "base_uri": "https://localhost:8080/"
        },
        "id": "BZ_Xz0W9rjX3",
        "outputId": "29b8a4a1-dc7d-477b-8138-30cb17a6e3f6"
      },
      "execution_count": 1,
      "outputs": [
        {
          "output_type": "stream",
          "name": "stdout",
          "text": [
            "Requirement already satisfied: mesa[rec] in /usr/local/lib/python3.11/dist-packages (3.2.0)\n",
            "Requirement already satisfied: numpy in /usr/local/lib/python3.11/dist-packages (from mesa[rec]) (2.0.2)\n",
            "Requirement already satisfied: pandas in /usr/local/lib/python3.11/dist-packages (from mesa[rec]) (2.2.2)\n",
            "Requirement already satisfied: scipy in /usr/local/lib/python3.11/dist-packages (from mesa[rec]) (1.15.3)\n",
            "Requirement already satisfied: tqdm in /usr/local/lib/python3.11/dist-packages (from mesa[rec]) (4.67.1)\n",
            "Requirement already satisfied: altair in /usr/local/lib/python3.11/dist-packages (from mesa[rec]) (5.5.0)\n",
            "Requirement already satisfied: matplotlib in /usr/local/lib/python3.11/dist-packages (from mesa[rec]) (3.10.0)\n",
            "Requirement already satisfied: networkx in /usr/local/lib/python3.11/dist-packages (from mesa[rec]) (3.5)\n",
            "Requirement already satisfied: solara in /usr/local/lib/python3.11/dist-packages (from mesa[rec]) (1.50.1)\n",
            "Requirement already satisfied: jinja2 in /usr/local/lib/python3.11/dist-packages (from altair->mesa[rec]) (3.1.6)\n",
            "Requirement already satisfied: jsonschema>=3.0 in /usr/local/lib/python3.11/dist-packages (from altair->mesa[rec]) (4.24.0)\n",
            "Requirement already satisfied: narwhals>=1.14.2 in /usr/local/lib/python3.11/dist-packages (from altair->mesa[rec]) (1.47.0)\n",
            "Requirement already satisfied: packaging in /usr/local/lib/python3.11/dist-packages (from altair->mesa[rec]) (25.0)\n",
            "Requirement already satisfied: typing-extensions>=4.10.0 in /usr/local/lib/python3.11/dist-packages (from altair->mesa[rec]) (4.14.1)\n",
            "Requirement already satisfied: contourpy>=1.0.1 in /usr/local/lib/python3.11/dist-packages (from matplotlib->mesa[rec]) (1.3.2)\n",
            "Requirement already satisfied: cycler>=0.10 in /usr/local/lib/python3.11/dist-packages (from matplotlib->mesa[rec]) (0.12.1)\n",
            "Requirement already satisfied: fonttools>=4.22.0 in /usr/local/lib/python3.11/dist-packages (from matplotlib->mesa[rec]) (4.58.5)\n",
            "Requirement already satisfied: kiwisolver>=1.3.1 in /usr/local/lib/python3.11/dist-packages (from matplotlib->mesa[rec]) (1.4.8)\n",
            "Requirement already satisfied: pillow>=8 in /usr/local/lib/python3.11/dist-packages (from matplotlib->mesa[rec]) (11.2.1)\n",
            "Requirement already satisfied: pyparsing>=2.3.1 in /usr/local/lib/python3.11/dist-packages (from matplotlib->mesa[rec]) (3.2.3)\n",
            "Requirement already satisfied: python-dateutil>=2.7 in /usr/local/lib/python3.11/dist-packages (from matplotlib->mesa[rec]) (2.9.0.post0)\n",
            "Requirement already satisfied: pytz>=2020.1 in /usr/local/lib/python3.11/dist-packages (from pandas->mesa[rec]) (2025.2)\n",
            "Requirement already satisfied: tzdata>=2022.7 in /usr/local/lib/python3.11/dist-packages (from pandas->mesa[rec]) (2025.2)\n",
            "Requirement already satisfied: solara-server==1.50.1 in /usr/local/lib/python3.11/dist-packages (from solara-server[dev,starlette]==1.50.1->solara->mesa[rec]) (1.50.1)\n",
            "Requirement already satisfied: solara-ui==1.50.1 in /usr/local/lib/python3.11/dist-packages (from solara-ui[all]==1.50.1->solara->mesa[rec]) (1.50.1)\n",
            "Requirement already satisfied: click>=7.1.0 in /usr/local/lib/python3.11/dist-packages (from solara-server==1.50.1->solara-server[dev,starlette]==1.50.1->solara->mesa[rec]) (8.2.1)\n",
            "Requirement already satisfied: filelock in /usr/local/lib/python3.11/dist-packages (from solara-server==1.50.1->solara-server[dev,starlette]==1.50.1->solara->mesa[rec]) (3.18.0)\n",
            "Requirement already satisfied: ipykernel in /usr/local/lib/python3.11/dist-packages (from solara-server==1.50.1->solara-server[dev,starlette]==1.50.1->solara->mesa[rec]) (6.17.1)\n",
            "Requirement already satisfied: jupyter-client in /usr/local/lib/python3.11/dist-packages (from solara-server==1.50.1->solara-server[dev,starlette]==1.50.1->solara->mesa[rec]) (6.1.12)\n",
            "Requirement already satisfied: nbformat in /usr/local/lib/python3.11/dist-packages (from solara-server==1.50.1->solara-server[dev,starlette]==1.50.1->solara->mesa[rec]) (5.10.4)\n",
            "Requirement already satisfied: rich-click in /usr/local/lib/python3.11/dist-packages (from solara-server==1.50.1->solara-server[dev,starlette]==1.50.1->solara->mesa[rec]) (1.8.9)\n",
            "Requirement already satisfied: watchdog in /usr/local/lib/python3.11/dist-packages (from solara-server[dev,starlette]==1.50.1->solara->mesa[rec]) (6.0.0)\n",
            "Requirement already satisfied: watchfiles in /usr/local/lib/python3.11/dist-packages (from solara-server[dev,starlette]==1.50.1->solara->mesa[rec]) (1.1.0)\n",
            "Requirement already satisfied: starlette in /usr/local/lib/python3.11/dist-packages (from solara-server[dev,starlette]==1.50.1->solara->mesa[rec]) (0.47.1)\n",
            "Requirement already satisfied: uvicorn in /usr/local/lib/python3.11/dist-packages (from solara-server[dev,starlette]==1.50.1->solara->mesa[rec]) (0.35.0)\n",
            "Requirement already satisfied: websockets in /usr/local/lib/python3.11/dist-packages (from solara-server[dev,starlette]==1.50.1->solara->mesa[rec]) (15.0.1)\n",
            "Requirement already satisfied: humanize in /usr/local/lib/python3.11/dist-packages (from solara-ui==1.50.1->solara-ui[all]==1.50.1->solara->mesa[rec]) (4.12.3)\n",
            "Requirement already satisfied: ipyvue>=1.9.0 in /usr/local/lib/python3.11/dist-packages (from solara-ui==1.50.1->solara-ui[all]==1.50.1->solara->mesa[rec]) (1.11.2)\n",
            "Requirement already satisfied: ipyvuetify>=1.6.10 in /usr/local/lib/python3.11/dist-packages (from solara-ui==1.50.1->solara-ui[all]==1.50.1->solara->mesa[rec]) (1.11.3)\n",
            "Requirement already satisfied: ipywidgets>=7.7 in /usr/local/lib/python3.11/dist-packages (from solara-ui==1.50.1->solara-ui[all]==1.50.1->solara->mesa[rec]) (7.7.1)\n",
            "Requirement already satisfied: reacton>=1.9 in /usr/local/lib/python3.11/dist-packages (from solara-ui==1.50.1->solara-ui[all]==1.50.1->solara->mesa[rec]) (1.9.1)\n",
            "Requirement already satisfied: requests in /usr/local/lib/python3.11/dist-packages (from solara-ui==1.50.1->solara-ui[all]==1.50.1->solara->mesa[rec]) (2.32.3)\n",
            "Requirement already satisfied: cachetools in /usr/local/lib/python3.11/dist-packages (from solara-ui[all]==1.50.1->solara->mesa[rec]) (5.5.2)\n",
            "Requirement already satisfied: markdown in /usr/local/lib/python3.11/dist-packages (from solara-ui[all]==1.50.1->solara->mesa[rec]) (3.8.2)\n",
            "Requirement already satisfied: pygments in /usr/local/lib/python3.11/dist-packages (from solara-ui[all]==1.50.1->solara->mesa[rec]) (2.19.2)\n",
            "Requirement already satisfied: pymdown-extensions in /usr/local/lib/python3.11/dist-packages (from solara-ui[all]==1.50.1->solara->mesa[rec]) (10.16)\n",
            "Requirement already satisfied: attrs>=22.2.0 in /usr/local/lib/python3.11/dist-packages (from jsonschema>=3.0->altair->mesa[rec]) (25.3.0)\n",
            "Requirement already satisfied: jsonschema-specifications>=2023.03.6 in /usr/local/lib/python3.11/dist-packages (from jsonschema>=3.0->altair->mesa[rec]) (2025.4.1)\n",
            "Requirement already satisfied: referencing>=0.28.4 in /usr/local/lib/python3.11/dist-packages (from jsonschema>=3.0->altair->mesa[rec]) (0.36.2)\n",
            "Requirement already satisfied: rpds-py>=0.7.1 in /usr/local/lib/python3.11/dist-packages (from jsonschema>=3.0->altair->mesa[rec]) (0.26.0)\n",
            "Requirement already satisfied: six>=1.5 in /usr/local/lib/python3.11/dist-packages (from python-dateutil>=2.7->matplotlib->mesa[rec]) (1.17.0)\n",
            "Requirement already satisfied: MarkupSafe>=2.0 in /usr/local/lib/python3.11/dist-packages (from jinja2->altair->mesa[rec]) (3.0.2)\n",
            "Requirement already satisfied: ipython-genutils~=0.2.0 in /usr/local/lib/python3.11/dist-packages (from ipywidgets>=7.7->solara-ui==1.50.1->solara-ui[all]==1.50.1->solara->mesa[rec]) (0.2.0)\n",
            "Requirement already satisfied: traitlets>=4.3.1 in /usr/local/lib/python3.11/dist-packages (from ipywidgets>=7.7->solara-ui==1.50.1->solara-ui[all]==1.50.1->solara->mesa[rec]) (5.7.1)\n",
            "Requirement already satisfied: widgetsnbextension~=3.6.0 in /usr/local/lib/python3.11/dist-packages (from ipywidgets>=7.7->solara-ui==1.50.1->solara-ui[all]==1.50.1->solara->mesa[rec]) (3.6.10)\n",
            "Requirement already satisfied: ipython>=4.0.0 in /usr/local/lib/python3.11/dist-packages (from ipywidgets>=7.7->solara-ui==1.50.1->solara-ui[all]==1.50.1->solara->mesa[rec]) (7.34.0)\n",
            "Requirement already satisfied: jupyterlab-widgets>=1.0.0 in /usr/local/lib/python3.11/dist-packages (from ipywidgets>=7.7->solara-ui==1.50.1->solara-ui[all]==1.50.1->solara->mesa[rec]) (3.0.15)\n",
            "Requirement already satisfied: debugpy>=1.0 in /usr/local/lib/python3.11/dist-packages (from ipykernel->solara-server==1.50.1->solara-server[dev,starlette]==1.50.1->solara->mesa[rec]) (1.8.0)\n",
            "Requirement already satisfied: matplotlib-inline>=0.1 in /usr/local/lib/python3.11/dist-packages (from ipykernel->solara-server==1.50.1->solara-server[dev,starlette]==1.50.1->solara->mesa[rec]) (0.1.7)\n",
            "Requirement already satisfied: nest-asyncio in /usr/local/lib/python3.11/dist-packages (from ipykernel->solara-server==1.50.1->solara-server[dev,starlette]==1.50.1->solara->mesa[rec]) (1.6.0)\n",
            "Requirement already satisfied: psutil in /usr/local/lib/python3.11/dist-packages (from ipykernel->solara-server==1.50.1->solara-server[dev,starlette]==1.50.1->solara->mesa[rec]) (5.9.5)\n",
            "Requirement already satisfied: pyzmq>=17 in /usr/local/lib/python3.11/dist-packages (from ipykernel->solara-server==1.50.1->solara-server[dev,starlette]==1.50.1->solara->mesa[rec]) (24.0.1)\n",
            "Requirement already satisfied: tornado>=6.1 in /usr/local/lib/python3.11/dist-packages (from ipykernel->solara-server==1.50.1->solara-server[dev,starlette]==1.50.1->solara->mesa[rec]) (6.4.2)\n",
            "Requirement already satisfied: jupyter-core>=4.6.0 in /usr/local/lib/python3.11/dist-packages (from jupyter-client->solara-server==1.50.1->solara-server[dev,starlette]==1.50.1->solara->mesa[rec]) (5.8.1)\n",
            "Requirement already satisfied: fastjsonschema>=2.15 in /usr/local/lib/python3.11/dist-packages (from nbformat->solara-server==1.50.1->solara-server[dev,starlette]==1.50.1->solara->mesa[rec]) (2.21.1)\n",
            "Requirement already satisfied: pyyaml in /usr/local/lib/python3.11/dist-packages (from pymdown-extensions->solara-ui[all]==1.50.1->solara->mesa[rec]) (6.0.2)\n",
            "Requirement already satisfied: charset-normalizer<4,>=2 in /usr/local/lib/python3.11/dist-packages (from requests->solara-ui==1.50.1->solara-ui[all]==1.50.1->solara->mesa[rec]) (3.4.2)\n",
            "Requirement already satisfied: idna<4,>=2.5 in /usr/local/lib/python3.11/dist-packages (from requests->solara-ui==1.50.1->solara-ui[all]==1.50.1->solara->mesa[rec]) (3.10)\n",
            "Requirement already satisfied: urllib3<3,>=1.21.1 in /usr/local/lib/python3.11/dist-packages (from requests->solara-ui==1.50.1->solara-ui[all]==1.50.1->solara->mesa[rec]) (2.4.0)\n",
            "Requirement already satisfied: certifi>=2017.4.17 in /usr/local/lib/python3.11/dist-packages (from requests->solara-ui==1.50.1->solara-ui[all]==1.50.1->solara->mesa[rec]) (2025.7.14)\n",
            "Requirement already satisfied: rich>=10.7 in /usr/local/lib/python3.11/dist-packages (from rich-click->solara-server==1.50.1->solara-server[dev,starlette]==1.50.1->solara->mesa[rec]) (13.9.4)\n",
            "Requirement already satisfied: anyio<5,>=3.6.2 in /usr/local/lib/python3.11/dist-packages (from starlette->solara-server[dev,starlette]==1.50.1->solara->mesa[rec]) (4.9.0)\n",
            "Requirement already satisfied: h11>=0.8 in /usr/local/lib/python3.11/dist-packages (from uvicorn->solara-server[dev,starlette]==1.50.1->solara->mesa[rec]) (0.16.0)\n",
            "Requirement already satisfied: sniffio>=1.1 in /usr/local/lib/python3.11/dist-packages (from anyio<5,>=3.6.2->starlette->solara-server[dev,starlette]==1.50.1->solara->mesa[rec]) (1.3.1)\n",
            "Requirement already satisfied: setuptools>=18.5 in /usr/local/lib/python3.11/dist-packages (from ipython>=4.0.0->ipywidgets>=7.7->solara-ui==1.50.1->solara-ui[all]==1.50.1->solara->mesa[rec]) (75.2.0)\n",
            "Requirement already satisfied: jedi>=0.16 in /usr/local/lib/python3.11/dist-packages (from ipython>=4.0.0->ipywidgets>=7.7->solara-ui==1.50.1->solara-ui[all]==1.50.1->solara->mesa[rec]) (0.19.2)\n",
            "Requirement already satisfied: decorator in /usr/local/lib/python3.11/dist-packages (from ipython>=4.0.0->ipywidgets>=7.7->solara-ui==1.50.1->solara-ui[all]==1.50.1->solara->mesa[rec]) (4.4.2)\n",
            "Requirement already satisfied: pickleshare in /usr/local/lib/python3.11/dist-packages (from ipython>=4.0.0->ipywidgets>=7.7->solara-ui==1.50.1->solara-ui[all]==1.50.1->solara->mesa[rec]) (0.7.5)\n",
            "Requirement already satisfied: prompt-toolkit!=3.0.0,!=3.0.1,<3.1.0,>=2.0.0 in /usr/local/lib/python3.11/dist-packages (from ipython>=4.0.0->ipywidgets>=7.7->solara-ui==1.50.1->solara-ui[all]==1.50.1->solara->mesa[rec]) (3.0.51)\n",
            "Requirement already satisfied: backcall in /usr/local/lib/python3.11/dist-packages (from ipython>=4.0.0->ipywidgets>=7.7->solara-ui==1.50.1->solara-ui[all]==1.50.1->solara->mesa[rec]) (0.2.0)\n",
            "Requirement already satisfied: pexpect>4.3 in /usr/local/lib/python3.11/dist-packages (from ipython>=4.0.0->ipywidgets>=7.7->solara-ui==1.50.1->solara-ui[all]==1.50.1->solara->mesa[rec]) (4.9.0)\n",
            "Requirement already satisfied: platformdirs>=2.5 in /usr/local/lib/python3.11/dist-packages (from jupyter-core>=4.6.0->jupyter-client->solara-server==1.50.1->solara-server[dev,starlette]==1.50.1->solara->mesa[rec]) (4.3.8)\n",
            "Requirement already satisfied: markdown-it-py>=2.2.0 in /usr/local/lib/python3.11/dist-packages (from rich>=10.7->rich-click->solara-server==1.50.1->solara-server[dev,starlette]==1.50.1->solara->mesa[rec]) (3.0.0)\n",
            "Requirement already satisfied: notebook>=4.4.1 in /usr/local/lib/python3.11/dist-packages (from widgetsnbextension~=3.6.0->ipywidgets>=7.7->solara-ui==1.50.1->solara-ui[all]==1.50.1->solara->mesa[rec]) (6.5.7)\n",
            "Requirement already satisfied: parso<0.9.0,>=0.8.4 in /usr/local/lib/python3.11/dist-packages (from jedi>=0.16->ipython>=4.0.0->ipywidgets>=7.7->solara-ui==1.50.1->solara-ui[all]==1.50.1->solara->mesa[rec]) (0.8.4)\n",
            "Requirement already satisfied: mdurl~=0.1 in /usr/local/lib/python3.11/dist-packages (from markdown-it-py>=2.2.0->rich>=10.7->rich-click->solara-server==1.50.1->solara-server[dev,starlette]==1.50.1->solara->mesa[rec]) (0.1.2)\n",
            "Requirement already satisfied: argon2-cffi in /usr/local/lib/python3.11/dist-packages (from notebook>=4.4.1->widgetsnbextension~=3.6.0->ipywidgets>=7.7->solara-ui==1.50.1->solara-ui[all]==1.50.1->solara->mesa[rec]) (25.1.0)\n",
            "Requirement already satisfied: nbconvert>=5 in /usr/local/lib/python3.11/dist-packages (from notebook>=4.4.1->widgetsnbextension~=3.6.0->ipywidgets>=7.7->solara-ui==1.50.1->solara-ui[all]==1.50.1->solara->mesa[rec]) (7.16.6)\n",
            "Requirement already satisfied: Send2Trash>=1.8.0 in /usr/local/lib/python3.11/dist-packages (from notebook>=4.4.1->widgetsnbextension~=3.6.0->ipywidgets>=7.7->solara-ui==1.50.1->solara-ui[all]==1.50.1->solara->mesa[rec]) (1.8.3)\n",
            "Requirement already satisfied: terminado>=0.8.3 in /usr/local/lib/python3.11/dist-packages (from notebook>=4.4.1->widgetsnbextension~=3.6.0->ipywidgets>=7.7->solara-ui==1.50.1->solara-ui[all]==1.50.1->solara->mesa[rec]) (0.18.1)\n",
            "Requirement already satisfied: prometheus-client in /usr/local/lib/python3.11/dist-packages (from notebook>=4.4.1->widgetsnbextension~=3.6.0->ipywidgets>=7.7->solara-ui==1.50.1->solara-ui[all]==1.50.1->solara->mesa[rec]) (0.22.1)\n",
            "Requirement already satisfied: nbclassic>=0.4.7 in /usr/local/lib/python3.11/dist-packages (from notebook>=4.4.1->widgetsnbextension~=3.6.0->ipywidgets>=7.7->solara-ui==1.50.1->solara-ui[all]==1.50.1->solara->mesa[rec]) (1.3.1)\n",
            "Requirement already satisfied: ptyprocess>=0.5 in /usr/local/lib/python3.11/dist-packages (from pexpect>4.3->ipython>=4.0.0->ipywidgets>=7.7->solara-ui==1.50.1->solara-ui[all]==1.50.1->solara->mesa[rec]) (0.7.0)\n",
            "Requirement already satisfied: wcwidth in /usr/local/lib/python3.11/dist-packages (from prompt-toolkit!=3.0.0,!=3.0.1,<3.1.0,>=2.0.0->ipython>=4.0.0->ipywidgets>=7.7->solara-ui==1.50.1->solara-ui[all]==1.50.1->solara->mesa[rec]) (0.2.13)\n",
            "Requirement already satisfied: notebook-shim>=0.2.3 in /usr/local/lib/python3.11/dist-packages (from nbclassic>=0.4.7->notebook>=4.4.1->widgetsnbextension~=3.6.0->ipywidgets>=7.7->solara-ui==1.50.1->solara-ui[all]==1.50.1->solara->mesa[rec]) (0.2.4)\n",
            "Requirement already satisfied: beautifulsoup4 in /usr/local/lib/python3.11/dist-packages (from nbconvert>=5->notebook>=4.4.1->widgetsnbextension~=3.6.0->ipywidgets>=7.7->solara-ui==1.50.1->solara-ui[all]==1.50.1->solara->mesa[rec]) (4.13.4)\n",
            "Requirement already satisfied: bleach!=5.0.0 in /usr/local/lib/python3.11/dist-packages (from bleach[css]!=5.0.0->nbconvert>=5->notebook>=4.4.1->widgetsnbextension~=3.6.0->ipywidgets>=7.7->solara-ui==1.50.1->solara-ui[all]==1.50.1->solara->mesa[rec]) (6.2.0)\n",
            "Requirement already satisfied: defusedxml in /usr/local/lib/python3.11/dist-packages (from nbconvert>=5->notebook>=4.4.1->widgetsnbextension~=3.6.0->ipywidgets>=7.7->solara-ui==1.50.1->solara-ui[all]==1.50.1->solara->mesa[rec]) (0.7.1)\n",
            "Requirement already satisfied: jupyterlab-pygments in /usr/local/lib/python3.11/dist-packages (from nbconvert>=5->notebook>=4.4.1->widgetsnbextension~=3.6.0->ipywidgets>=7.7->solara-ui==1.50.1->solara-ui[all]==1.50.1->solara->mesa[rec]) (0.3.0)\n",
            "Requirement already satisfied: mistune<4,>=2.0.3 in /usr/local/lib/python3.11/dist-packages (from nbconvert>=5->notebook>=4.4.1->widgetsnbextension~=3.6.0->ipywidgets>=7.7->solara-ui==1.50.1->solara-ui[all]==1.50.1->solara->mesa[rec]) (3.1.3)\n",
            "Requirement already satisfied: nbclient>=0.5.0 in /usr/local/lib/python3.11/dist-packages (from nbconvert>=5->notebook>=4.4.1->widgetsnbextension~=3.6.0->ipywidgets>=7.7->solara-ui==1.50.1->solara-ui[all]==1.50.1->solara->mesa[rec]) (0.10.2)\n",
            "Requirement already satisfied: pandocfilters>=1.4.1 in /usr/local/lib/python3.11/dist-packages (from nbconvert>=5->notebook>=4.4.1->widgetsnbextension~=3.6.0->ipywidgets>=7.7->solara-ui==1.50.1->solara-ui[all]==1.50.1->solara->mesa[rec]) (1.5.1)\n",
            "Requirement already satisfied: argon2-cffi-bindings in /usr/local/lib/python3.11/dist-packages (from argon2-cffi->notebook>=4.4.1->widgetsnbextension~=3.6.0->ipywidgets>=7.7->solara-ui==1.50.1->solara-ui[all]==1.50.1->solara->mesa[rec]) (21.2.0)\n",
            "Requirement already satisfied: webencodings in /usr/local/lib/python3.11/dist-packages (from bleach!=5.0.0->bleach[css]!=5.0.0->nbconvert>=5->notebook>=4.4.1->widgetsnbextension~=3.6.0->ipywidgets>=7.7->solara-ui==1.50.1->solara-ui[all]==1.50.1->solara->mesa[rec]) (0.5.1)\n",
            "Requirement already satisfied: tinycss2<1.5,>=1.1.0 in /usr/local/lib/python3.11/dist-packages (from bleach[css]!=5.0.0->nbconvert>=5->notebook>=4.4.1->widgetsnbextension~=3.6.0->ipywidgets>=7.7->solara-ui==1.50.1->solara-ui[all]==1.50.1->solara->mesa[rec]) (1.4.0)\n",
            "Requirement already satisfied: jupyter-server<3,>=1.8 in /usr/local/lib/python3.11/dist-packages (from notebook-shim>=0.2.3->nbclassic>=0.4.7->notebook>=4.4.1->widgetsnbextension~=3.6.0->ipywidgets>=7.7->solara-ui==1.50.1->solara-ui[all]==1.50.1->solara->mesa[rec]) (1.16.0)\n",
            "Requirement already satisfied: cffi>=1.0.1 in /usr/local/lib/python3.11/dist-packages (from argon2-cffi-bindings->argon2-cffi->notebook>=4.4.1->widgetsnbextension~=3.6.0->ipywidgets>=7.7->solara-ui==1.50.1->solara-ui[all]==1.50.1->solara->mesa[rec]) (1.17.1)\n",
            "Requirement already satisfied: soupsieve>1.2 in /usr/local/lib/python3.11/dist-packages (from beautifulsoup4->nbconvert>=5->notebook>=4.4.1->widgetsnbextension~=3.6.0->ipywidgets>=7.7->solara-ui==1.50.1->solara-ui[all]==1.50.1->solara->mesa[rec]) (2.7)\n",
            "Requirement already satisfied: pycparser in /usr/local/lib/python3.11/dist-packages (from cffi>=1.0.1->argon2-cffi-bindings->argon2-cffi->notebook>=4.4.1->widgetsnbextension~=3.6.0->ipywidgets>=7.7->solara-ui==1.50.1->solara-ui[all]==1.50.1->solara->mesa[rec]) (2.22)\n",
            "Requirement already satisfied: websocket-client in /usr/local/lib/python3.11/dist-packages (from jupyter-server<3,>=1.8->notebook-shim>=0.2.3->nbclassic>=0.4.7->notebook>=4.4.1->widgetsnbextension~=3.6.0->ipywidgets>=7.7->solara-ui==1.50.1->solara-ui[all]==1.50.1->solara->mesa[rec]) (1.8.0)\n"
          ]
        }
      ]
    },
    {
      "cell_type": "code",
      "source": [
        "pip install seaborn"
      ],
      "metadata": {
        "colab": {
          "base_uri": "https://localhost:8080/"
        },
        "id": "ollrrPzlrw0e",
        "outputId": "4a6cfe46-e12e-4c3a-8c3b-632a636ab38e"
      },
      "execution_count": 2,
      "outputs": [
        {
          "output_type": "stream",
          "name": "stdout",
          "text": [
            "Requirement already satisfied: seaborn in /usr/local/lib/python3.11/dist-packages (0.13.2)\n",
            "Requirement already satisfied: numpy!=1.24.0,>=1.20 in /usr/local/lib/python3.11/dist-packages (from seaborn) (2.0.2)\n",
            "Requirement already satisfied: pandas>=1.2 in /usr/local/lib/python3.11/dist-packages (from seaborn) (2.2.2)\n",
            "Requirement already satisfied: matplotlib!=3.6.1,>=3.4 in /usr/local/lib/python3.11/dist-packages (from seaborn) (3.10.0)\n",
            "Requirement already satisfied: contourpy>=1.0.1 in /usr/local/lib/python3.11/dist-packages (from matplotlib!=3.6.1,>=3.4->seaborn) (1.3.2)\n",
            "Requirement already satisfied: cycler>=0.10 in /usr/local/lib/python3.11/dist-packages (from matplotlib!=3.6.1,>=3.4->seaborn) (0.12.1)\n",
            "Requirement already satisfied: fonttools>=4.22.0 in /usr/local/lib/python3.11/dist-packages (from matplotlib!=3.6.1,>=3.4->seaborn) (4.58.5)\n",
            "Requirement already satisfied: kiwisolver>=1.3.1 in /usr/local/lib/python3.11/dist-packages (from matplotlib!=3.6.1,>=3.4->seaborn) (1.4.8)\n",
            "Requirement already satisfied: packaging>=20.0 in /usr/local/lib/python3.11/dist-packages (from matplotlib!=3.6.1,>=3.4->seaborn) (25.0)\n",
            "Requirement already satisfied: pillow>=8 in /usr/local/lib/python3.11/dist-packages (from matplotlib!=3.6.1,>=3.4->seaborn) (11.2.1)\n",
            "Requirement already satisfied: pyparsing>=2.3.1 in /usr/local/lib/python3.11/dist-packages (from matplotlib!=3.6.1,>=3.4->seaborn) (3.2.3)\n",
            "Requirement already satisfied: python-dateutil>=2.7 in /usr/local/lib/python3.11/dist-packages (from matplotlib!=3.6.1,>=3.4->seaborn) (2.9.0.post0)\n",
            "Requirement already satisfied: pytz>=2020.1 in /usr/local/lib/python3.11/dist-packages (from pandas>=1.2->seaborn) (2025.2)\n",
            "Requirement already satisfied: tzdata>=2022.7 in /usr/local/lib/python3.11/dist-packages (from pandas>=1.2->seaborn) (2025.2)\n",
            "Requirement already satisfied: six>=1.5 in /usr/local/lib/python3.11/dist-packages (from python-dateutil>=2.7->matplotlib!=3.6.1,>=3.4->seaborn) (1.17.0)\n"
          ]
        }
      ]
    },
    {
      "cell_type": "code",
      "execution_count": 3,
      "metadata": {
        "jupyter": {
          "outputs_hidden": false
        },
        "id": "IlDheHICi-T_"
      },
      "outputs": [],
      "source": [
        "# Has multi-dimensional arrays and matrices.\n",
        "# Has a large collection of mathematical functions to operate on these arrays.\n",
        "import numpy as np\n",
        "\n",
        "# Data manipulation and analysis.\n",
        "import pandas as pd\n",
        "\n",
        "# Data visualization tools.\n",
        "import seaborn as sns\n",
        "\n",
        "import mesa"
      ]
    },
    {
      "cell_type": "markdown",
      "metadata": {
        "id": "OnhTdG8hi-UA"
      },
      "source": [
        "### Create Agent\n",
        "\n",
        "First create the agent. As the tutorial progresses, more functionality will be added to the agent.\n",
        "\n",
        "**Background:** Agents are the individual entities that act in the model. Mesa automatically assigns each agent that is created an integer as a `unique_id.`\n",
        "\n",
        "**Model-specific information:** Agents are the individuals that exchange money, in this case the amount of money an individual agent has is represented as wealth.\n",
        "\n",
        "**Code implementation:** This is done by creating a new class (or object) that extends `mesa.Agent` creating a subclass of  the `Agent` class from mesa. The new class is named `MoneyAgent`. The inherited code of the Mesa agent object can be found in the [mesa repo](https://github.com/projectmesa/mesa/blob/main/mesa/agent.py).\n",
        "\n",
        "The `MoneyAgent` class is created with the following code:"
      ]
    },
    {
      "cell_type": "code",
      "source": [],
      "metadata": {
        "id": "h-WXexCJrXkq"
      },
      "execution_count": 3,
      "outputs": []
    },
    {
      "cell_type": "code",
      "execution_count": 4,
      "metadata": {
        "id": "gVlWhPvWi-UA"
      },
      "outputs": [],
      "source": [
        "class MoneyAgent(mesa.Agent):\n",
        "    \"\"\"An agent with fixed initial wealth.\"\"\"\n",
        "\n",
        "    def __init__(self, model):\n",
        "        # Pass the parameters to the parent class.\n",
        "        super().__init__(model)\n",
        "\n",
        "        # Create the agent's variable and set the initial values.\n",
        "        self.wealth = 1"
      ]
    },
    {
      "cell_type": "markdown",
      "metadata": {
        "id": "Tx5cAmA0i-UA"
      },
      "source": [
        "### Create Model\n",
        "\n",
        "Next, create the model. This gives us the two basic classes of any Mesa ABM - the agent class (population of agent objects that doing something) and the manager class (a model object that manages the creation, activation, datacollection etc of the agents)\n",
        "\n",
        "**Background:** The model can be visualized as a list containing all the agents. The model creates, holds and manages all the agent objects, specifically in a dictionary. The model activates agents in discrete time steps.\n",
        "\n",
        "**Model-specific information:** When a model is created the number of agents within the model is specified. The model then creates the agents and places them in a set of agents.\n",
        "\n",
        "**Code implementation:** This is done by creating a new class (or object) that extends `mesa.Model` and calls `super().__init__()`, creating a subclass of the `Model` class from mesa. The new class is named `MoneyModel`.  The Mesa code you are using can be found in [model module](https://github.com/projectmesa/mesa/blob/main/mesa/model.py) and the AgentSet in the [agent module](https://github.com/projectmesa/mesa/blob/d7a3834c99a3be809abe2edc8b83610f3d4438ba/mesa/agent.py#L86). A critical point is that you can use the `seed` kwarg (keyword argument) to set a seed which controls the random number generator of the model class allowing for the reproducibility of results.\n",
        "\n",
        "The `MoneyModel` class is created with the following code:"
      ]
    },
    {
      "cell_type": "code",
      "execution_count": 5,
      "metadata": {
        "id": "nhzNos1ti-UA"
      },
      "outputs": [],
      "source": [
        "class MoneyModel(mesa.Model):\n",
        "    \"\"\"A model with some number of agents.\"\"\"\n",
        "\n",
        "    def __init__(self, n, seed=None):\n",
        "        super().__init__(seed=seed)\n",
        "        self.num_agents = n\n",
        "        # Create agents\n",
        "        MoneyAgent.create_agents(model=self, n=n)"
      ]
    },
    {
      "cell_type": "markdown",
      "metadata": {
        "id": "52Rd86_1i-UB"
      },
      "source": [
        "### Making the Agents `do`\n",
        "\n",
        "With the basics of the Agent class and Model class created we can now activate the agents to `do` things\n",
        "\n",
        "**Background:** Mesa's `do` function calls agent functions to grow your ABM. A step is the smallest unit of time in the model, and is often referred to as a tick. The `do` function and Python functionality can be configured to activate agents in different orders. This can be important as the order in which agents are activated can impact the results of the model [Comer2014]. At each step of the model, one or more of the agents -- usually all of them -- are activated and take their own step, changing internally and/or interacting with one another or the environment.\n",
        "\n",
        "**Model-specific information:** For this section we will randomly reorder the Agent activation order using  `mesa.Agent.shuffle_do` and have the agents `step` function print the agent's unique id that they were assigned during the agent creation process.\n",
        "\n",
        "**Code implementation:** Using standard ABM convention we add a `step` function to the `MoneyModel` class which calls the `mesa.Agent.shuffle_do` function. We then pass into `shuffle_do` the parameter \"step\". This tells mesa to look for and execute the `step` function in our MoneyAgent class.  "
      ]
    },
    {
      "cell_type": "code",
      "execution_count": 6,
      "metadata": {
        "id": "RJgJS8Aci-UB"
      },
      "outputs": [],
      "source": [
        "class MoneyAgent(mesa.Agent):\n",
        "    \"\"\"An agent with fixed initial wealth.\"\"\"\n",
        "\n",
        "    def __init__(self, model):\n",
        "        # Pass the parameters to the parent class.\n",
        "        super().__init__(model)\n",
        "\n",
        "        # Create the agent's attribute and set the initial values.\n",
        "        self.wealth = 1\n",
        "\n",
        "    def say_hi(self):\n",
        "        # The agent's step will go here.\n",
        "        # For demonstration purposes we will print the agent's unique_id\n",
        "        print(f\"Hi, I am an agent, you can call me {self.unique_id!s}.\")\n",
        "\n",
        "\n",
        "class MoneyModel(mesa.Model):\n",
        "    \"\"\"A model with some number of agents.\"\"\"\n",
        "\n",
        "    def __init__(self, n, seed=None):\n",
        "        super().__init__(seed=seed)\n",
        "        self.num_agents = n\n",
        "\n",
        "        # Create n agents\n",
        "        MoneyAgent.create_agents(model=self, n=n)\n",
        "\n",
        "    def step(self):\n",
        "        \"\"\"Advance the model by one step.\"\"\"\n",
        "        # This function psuedo-randomly reorders the list of agent objects and\n",
        "        # then iterates through calling the function passed in as the parameter\n",
        "        self.agents.shuffle_do(\"say_hi\")"
      ]
    },
    {
      "cell_type": "markdown",
      "metadata": {
        "id": "NOkVJCOGi-UB"
      },
      "source": [
        "### Running the Model\n",
        "We now have the pieces of a basic model. The model can be run by creating a model object and calling the step method. The model will run for one step and print the unique_id of each agent. You may run the model for multiple steps by calling the step method multiple times.\n",
        "\n",
        "Create the model object, and run it for one step:"
      ]
    },
    {
      "cell_type": "code",
      "execution_count": 7,
      "metadata": {
        "colab": {
          "base_uri": "https://localhost:8080/"
        },
        "id": "0PEBsvrsi-UB",
        "outputId": "5c5d42a2-8a6f-4f18-8425-8ca2bcd912a7"
      },
      "outputs": [
        {
          "output_type": "stream",
          "name": "stdout",
          "text": [
            "Hi, I am an agent, you can call me 4.\n",
            "Hi, I am an agent, you can call me 9.\n",
            "Hi, I am an agent, you can call me 3.\n",
            "Hi, I am an agent, you can call me 6.\n",
            "Hi, I am an agent, you can call me 7.\n",
            "Hi, I am an agent, you can call me 1.\n",
            "Hi, I am an agent, you can call me 2.\n",
            "Hi, I am an agent, you can call me 10.\n",
            "Hi, I am an agent, you can call me 5.\n",
            "Hi, I am an agent, you can call me 8.\n"
          ]
        }
      ],
      "source": [
        "starter_model = MoneyModel(10)\n",
        "starter_model.step()"
      ]
    },
    {
      "cell_type": "code",
      "execution_count": 8,
      "metadata": {
        "jupyter": {
          "outputs_hidden": false
        },
        "colab": {
          "base_uri": "https://localhost:8080/"
        },
        "id": "pDKkhGg0i-UB",
        "outputId": "3d101761-cdcc-48d3-a6bf-cea33fe10471"
      },
      "outputs": [
        {
          "output_type": "stream",
          "name": "stdout",
          "text": [
            "Hi, I am an agent, you can call me 3.\n",
            "Hi, I am an agent, you can call me 4.\n",
            "Hi, I am an agent, you can call me 8.\n",
            "Hi, I am an agent, you can call me 1.\n",
            "Hi, I am an agent, you can call me 10.\n",
            "Hi, I am an agent, you can call me 6.\n",
            "Hi, I am an agent, you can call me 7.\n",
            "Hi, I am an agent, you can call me 5.\n",
            "Hi, I am an agent, you can call me 9.\n",
            "Hi, I am an agent, you can call me 2.\n"
          ]
        }
      ],
      "source": [
        "# Run this step a few times and see what happens!\n",
        "starter_model.step()\n",
        "# Notice the order of the agents changes each time."
      ]
    },
    {
      "cell_type": "code",
      "execution_count": 9,
      "metadata": {
        "id": "sFEQJLBci-UB"
      },
      "outputs": [],
      "source": [
        "# Challenge: Change the seed from None to a number like 42 and see the impact"
      ]
    },
    {
      "cell_type": "code",
      "execution_count": 10,
      "metadata": {
        "id": "Li0S_UvQi-UB"
      },
      "outputs": [],
      "source": [
        "# Challenge: Change `shuffle_do` to just `do` and see the impact"
      ]
    },
    {
      "cell_type": "markdown",
      "metadata": {
        "id": "dwbOmO_Ti-UC"
      },
      "source": [
        "### Exercise\n",
        "Modifying the code below to have every agent print out its `wealth` when it is activated."
      ]
    },
    {
      "cell_type": "code",
      "execution_count": 11,
      "metadata": {
        "jupyter": {
          "outputs_hidden": false
        },
        "id": "p3QurC68i-UC"
      },
      "outputs": [],
      "source": [
        "class MoneyAgent(mesa.Agent):\n",
        "    \"\"\"An agent with fixed initial wealth.\"\"\"\n",
        "\n",
        "    def __init__(self, model):\n",
        "        # Pass the parameters to the parent class.\n",
        "        super().__init__(model)\n",
        "\n",
        "        # Create the agent's variable and set the initial values.\n",
        "        self.wealth = 1\n",
        "\n",
        "    def say_wealth(self):\n",
        "        # The agent's step will go here.\n",
        "        # FIXME: need to print the agent's wealth\n",
        "        print(\"Hi, I am an agent and I am broke!\")"
      ]
    },
    {
      "cell_type": "markdown",
      "metadata": {
        "id": "hpuCjnAQi-UC"
      },
      "source": [
        "Create a model for 12 Agents, and run it for a few steps to see the output."
      ]
    },
    {
      "cell_type": "code",
      "execution_count": 12,
      "metadata": {
        "jupyter": {
          "outputs_hidden": false
        },
        "id": "bA0aiYizi-UC"
      },
      "outputs": [],
      "source": [
        "# Fixme: Create the model object, and run it"
      ]
    },
    {
      "cell_type": "markdown",
      "metadata": {
        "id": "-H8QlpYmi-UC"
      },
      "source": [
        "### Agents Exchange\n",
        "\n",
        "Returning back to the MoneyAgent the actual exchange process is now going to be created.\n",
        "\n",
        "**Background:** This is where the agent's behavior as it relates to each step or tick of the model is defined.\n",
        "\n",
        "**Model-specific information:** In this case, the agent will check its wealth, and if it has money, give one unit of it away to another random agent.\n",
        "\n",
        "**Code implementation:** The agent's step method is called by `mesa.Agent.shuffle_do(\"exchange\")`during each step of the model. To allow the agent to choose another agent at random, we use the `model.random` random-number generator. This works just like Python's `random` module, but if a fixed seed is  set when the model is instantiated (see earlier challenge), this allows users to replicate a specific model run later. Once we identify this other agent object we increase their wealth by 1 and decrease this agents wealth by one.\n",
        "\n",
        "This updates the step function as shown below:"
      ]
    },
    {
      "cell_type": "code",
      "execution_count": 13,
      "metadata": {
        "id": "I8UT2-ppi-UC"
      },
      "outputs": [],
      "source": [
        "class MoneyAgent(mesa.Agent):\n",
        "    \"\"\"An agent with fixed initial wealth.\"\"\"\n",
        "\n",
        "    def __init__(self, model):\n",
        "        # Pass the parameters to the parent class.\n",
        "        super().__init__(model)\n",
        "\n",
        "        # Create the agent's variable and set the initial values.\n",
        "        self.wealth = 1\n",
        "\n",
        "    def exchange(self):\n",
        "        # Verify agent has some wealth\n",
        "        if self.wealth > 0:\n",
        "            other_agent = self.random.choice(self.model.agents)\n",
        "            if other_agent is not None:\n",
        "                other_agent.wealth += 1\n",
        "                self.wealth -= 1\n",
        "\n",
        "\n",
        "class MoneyModel(mesa.Model):\n",
        "    \"\"\"A model with some number of agents.\"\"\"\n",
        "\n",
        "    def __init__(self, n):\n",
        "        super().__init__()\n",
        "        self.num_agents = n\n",
        "\n",
        "        # Create agents\n",
        "        MoneyAgent.create_agents(model=self, n=n)\n",
        "\n",
        "    def step(self):\n",
        "        \"\"\"Advance the model by one step.\"\"\"\n",
        "        # This function psuedo-randomly reorders the list of agent objects and\n",
        "        # then iterates through calling the function passed in as the parameter\n",
        "        self.agents.shuffle_do(\"exchange\")"
      ]
    },
    {
      "cell_type": "markdown",
      "metadata": {
        "id": "0-YD9zTYi-UC"
      },
      "source": [
        "### Running your first model\n",
        "\n",
        "With exchange behavior added, it's time for the first rudimentary run of the model.\n",
        "\n",
        "Now let's create a model with 10 agents, and run it for 30 steps."
      ]
    },
    {
      "cell_type": "code",
      "execution_count": 14,
      "metadata": {
        "id": "hfINeESYi-UD"
      },
      "outputs": [],
      "source": [
        "model = MoneyModel(10)  # Tells the model to create 10 agents\n",
        "for _ in range(30):  # Runs the model for 30 steps;\n",
        "    model.step()\n",
        "\n",
        "# Note: An underscore is common convention for a variable that is not used."
      ]
    },
    {
      "cell_type": "markdown",
      "metadata": {
        "id": "6haH9ZMBi-UD"
      },
      "source": [
        "Next, we need to get some data out of the model. Specifically, we want to see the distribution of the agent's wealth.\n",
        "\n",
        " We can get the wealth values with list comprehension, and then use seaborn (or another graphics library) to visualize the data in a histogram."
      ]
    },
    {
      "cell_type": "code",
      "execution_count": 15,
      "metadata": {
        "colab": {
          "base_uri": "https://localhost:8080/",
          "height": 472
        },
        "id": "SIdwFTwVi-UD",
        "outputId": "dc07bfc0-be75-458c-f5df-5b2f422499b3"
      },
      "outputs": [
        {
          "output_type": "display_data",
          "data": {
            "text/plain": [
              "<Figure size 640x480 with 1 Axes>"
            ],
            "image/png": "[encoded data removed]"
          },
          "metadata": {}
        }
      ],
      "source": [
        "agent_wealth = [a.wealth for a in model.agents]\n",
        "# Create a histogram with seaborn\n",
        "g = sns.histplot(agent_wealth, discrete=True)\n",
        "g.set(\n",
        "    title=\"Wealth distribution\", xlabel=\"Wealth\", ylabel=\"number of agents\"\n",
        ");  # The semicolon is just to avoid printing the object representation"
      ]
    },
    {
      "cell_type": "markdown",
      "metadata": {
        "id": "7K2GZ_c1i-UD"
      },
      "source": [
        "To get a better idea of how a model behaves, we can create multiple model objects and see the distribution that emerges from all of them.\n",
        "\n",
        " We can do this with a nested for loop:"
      ]
    },
    {
      "cell_type": "code",
      "execution_count": 16,
      "metadata": {
        "colab": {
          "base_uri": "https://localhost:8080/",
          "height": 472
        },
        "id": "lTrbWTbui-UD",
        "outputId": "4b8e4541-027d-4147-e708-d248497b4ce8"
      },
      "outputs": [
        {
          "output_type": "display_data",
          "data": {
            "text/plain": [
              "<Figure size 640x480 with 1 Axes>"
            ],
            "image/png": "[encoded data removed]"
          },
          "metadata": {}
        }
      ],
      "source": [
        "all_wealth = []\n",
        "# This runs the model 100 times, each model executing 30 steps.\n",
        "for _ in range(100):\n",
        "    # Run the model\n",
        "    model = MoneyModel(10)\n",
        "    for _ in range(30):\n",
        "        model.step()\n",
        "\n",
        "    # Store the results\n",
        "    for agent in model.agents:\n",
        "        all_wealth.append(agent.wealth)\n",
        "\n",
        "# Use seaborn\n",
        "g = sns.histplot(all_wealth, discrete=True)\n",
        "g.set(title=\"Wealth distribution\", xlabel=\"Wealth\", ylabel=\"number of agents\");"
      ]
    },
    {
      "cell_type": "markdown",
      "metadata": {
        "id": "fRVM4JVzi-UD"
      },
      "source": [
        "This runs 100 instantiations of the model, and runs each for 30 steps.\n",
        "\n",
        "Notice that we set the histogram bins to be integers (`discrete=True`), since agents can only have whole numbers of wealth.\n",
        "\n",
        " This distribution looks a lot smoother. By running the model 100 times, we smooth out some of the 'noise' of randomness, and get to the model's overall expected behavior.\n",
        "\n",
        "This outcome might be surprising. Despite the fact that all agents, on average, give and receive one unit of money every step, the model converges to a state where most agents have a small amount of money and a small number have a lot of money."
      ]
    },
    {
      "cell_type": "markdown",
      "metadata": {
        "id": "XWC5kiuji-UD"
      },
      "source": [
        "### Exercise\n",
        "Change the above code to see the impact of different model runs, agent populations, and number of steps."
      ]
    },
    {
      "cell_type": "markdown",
      "metadata": {
        "id": "8Qcn37r9i-UD"
      },
      "source": [
        "## Next Steps\n",
        "\n",
        "Check out the [adding space tutorial](https://mesa.readthedocs.io/latest/tutorials/1_adding_space.html) on how to build interactive dashboards for your models."
      ]
    },
    {
      "cell_type": "markdown",
      "metadata": {
        "id": "AQFC2C9ui-UD"
      },
      "source": [
        "### More Mesa\n",
        "\n",
        "If you are looking for other Mesa models or tools here are some additional resources.\n",
        "\n",
        "- Example ABMs: Find canonical examples and examples of ABMs demonstrating highlighted features in the [Examples Tab](https://mesa.readthedocs.io/stable/examples.html)\n",
        "- Expanded Examples: Want to integrate Reinforcement Learning or work on the Traveling Salesman Problem? Checkout  [Mesa Examples](https://github.com/projectmesa/mesa-examples/)\n",
        "- Mesa-Geo: If you need an ABM with Geographic Information Systems (GIS) checkout [Mesa-Geo](https://mesa-geo.readthedocs.io/latest/)\n",
        "- Mesa Frames: Have a large complex model that you need to speed up, check out [Mesa Frames](https://github.com/projectmesa/mesa-frames)"
      ]
    },
    {
      "cell_type": "markdown",
      "metadata": {
        "id": "V2HD6JZai-UE"
      },
      "source": [
        "## Happy Modeling!\n",
        "\n",
        "This document is a work in progress.  If you see any errors, exclusions or have any problems please contact [us](https://github.com/projectmesa/mesa/issues)."
      ]
    },
    {
      "cell_type": "markdown",
      "metadata": {
        "id": "UHa8t1dFi-UE"
      },
      "source": [
        "[Comer2014] Comer, Kenneth W. “Who Goes First? An Examination of the Impact of Activation on Outcome Behavior in AgentBased Models.” George Mason University, 2014. http://mars.gmu.edu/bitstream/handle/1920/9070/Comer_gmu_0883E_10539.pdf\n",
        "\n",
        "[Dragulescu2002] Drăgulescu, Adrian A., and Victor M. Yakovenko. “Statistical Mechanics of Money, Income, and Wealth: A Short Survey.” arXiv Preprint Cond-mat/0211175, 2002. http://arxiv.org/abs/cond-mat/0211175."
      ]
    },
    {
      "cell_type": "code",
      "execution_count": 16,
      "metadata": {
        "id": "Lj3-6WZXi-UE"
      },
      "outputs": [],
      "source": []
    }
  ],
  "metadata": {
    "anaconda-cloud": {},
    "kernelspec": {
      "display_name": "Python 3 (ipykernel)",
      "language": "python",
      "name": "python3"
    },
    "language_info": {
      "codemirror_mode": {
        "name": "ipython",
        "version": 3
      },
      "file_extension": ".py",
      "mimetype": "text/x-python",
      "name": "python",
      "nbconvert_exporter": "python",
      "pygments_lexer": "ipython3",
      "version": "3.12.5"
    },
    "colab": {
      "provenance": [],
      "include_colab_link": true
    }
  },
  "nbformat": 4,
  "nbformat_minor": 0
}